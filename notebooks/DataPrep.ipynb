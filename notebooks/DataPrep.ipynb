{
 "cells": [
  {
   "attachments": {},
   "cell_type": "markdown",
   "metadata": {},
   "source": [
    "Prep FIA data for calibration analysis. \n",
    "* Create input database of stands/trees that meet our criteria. \n",
    "* Create a groundtruth dataset containing Accretion and Mortality values for FIA data summed to stand level. "
   ]
  },
  {
   "cell_type": "code",
   "execution_count": 141,
   "metadata": {},
   "outputs": [],
   "source": [
    "import sqlite3\n",
    "import pandasql as ps\n",
    "\n",
    "import pandas as pd\n",
    "import numpy as np\n",
    "\n",
    "import openpyxl\n",
    "\n",
    "import warnings\n",
    "warnings.filterwarnings('ignore')"
   ]
  },
  {
   "cell_type": "code",
   "execution_count": 142,
   "metadata": {},
   "outputs": [],
   "source": [
    "OUT_PATH = 'D:/fvs_calibration/data/interim'"
   ]
  },
  {
   "cell_type": "code",
   "execution_count": 143,
   "metadata": {},
   "outputs": [],
   "source": [
    "#read in FIA source tables \n",
    "DB_PATH = 'D:FIA/FIADB_CA.db'\n",
    "\n",
    "conn = sqlite3.connect(DB_PATH)\n",
    "# grab fvs_standinit_cond, cond, tree tables, and tree remeasurement table\n",
    "stands = pd.read_sql_query(\"select STAND_CN, STAND_ID, INV_YEAR AS INVYR, INV_MONTH, DG_MEASURE from FVS_STANDINIT_COND where VARIANT = 'NC'\", conn)\n",
    "trees = pd.read_sql_query(\"select STAND_CN, STAND_ID, TREE_CN from FVS_TREEINIT_COND\", conn)\n",
    "cond = pd.read_sql_query(\"select CN AS STAND_CN, PLT_CN, CONDID, DSTRBCD1, TRTCD1, CONDPROP_UNADJ, COND_STATUS_CD from COND\", conn)\n"
   ]
  },
  {
   "attachments": {},
   "cell_type": "markdown",
   "metadata": {},
   "source": [
    "#### 1. Create an input FVS database of stands/trees that fit our criteria. "
   ]
  },
  {
   "attachments": {},
   "cell_type": "markdown",
   "metadata": {},
   "source": [
    "Filter FVS_Standinit_cond table to only include stands that:\n",
    "* Have at at least two measurement years\n",
    "* Have not experienced disturbance between measurements\n",
    "* Forested stand\n",
    "* Ten years between measurements - (grow season apr 1 - sept 30)"
   ]
  },
  {
   "cell_type": "code",
   "execution_count": 144,
   "metadata": {},
   "outputs": [],
   "source": [
    "# some pre-processing\n",
    "# create STAND_ID2 - scrape stand_id so remeasurement ids match\n",
    "stands['STAND_ID2'] = stands['STAND_ID'].str[0:3] + stands['STAND_ID'].str[10:]"
   ]
  },
  {
   "cell_type": "code",
   "execution_count": 145,
   "metadata": {},
   "outputs": [
    {
     "data": {
      "text/plain": [
       "1836"
      ]
     },
     "execution_count": 145,
     "metadata": {},
     "output_type": "execute_result"
    }
   ],
   "source": [
    "# identify stands that have had no disturbance or harvest\n",
    "stands_nodisturb = ps.sqldf(\"\"\"select s.STAND_CN, s.STAND_ID, s.STAND_ID2, s.INVYR, s.INV_MONTH, s.DG_MEASURE, c.PLT_CN, c.CONDID, c.CONDPROP_UNADJ\n",
    "                               from stands s \n",
    "                               join cond c \n",
    "                               on s.STAND_CN = c.STAND_CN \n",
    "                               WHERE (c.DSTRBCD1 = NULL OR c.DSTRBCD1 = 0)\n",
    "                               AND (c.TRTCD1 = NULL OR c.TRTCD1 = 0) \n",
    "                               AND (c.COND_STATUS_CD = 1)\n",
    "                          \"\"\")\n",
    "stands_nodisturb.shape[0]"
   ]
  },
  {
   "cell_type": "code",
   "execution_count": 146,
   "metadata": {},
   "outputs": [
    {
     "data": {
      "text/plain": [
       "1202"
      ]
     },
     "execution_count": 146,
     "metadata": {},
     "output_type": "execute_result"
    }
   ],
   "source": [
    "# further filter out stands that don't have remeasurement data \n",
    "stands = stands_nodisturb.sort_values(by=['STAND_ID2', 'INVYR'])\n",
    "stands_filtered = stands[stands.duplicated(subset=['STAND_ID2'], keep=False)]\n",
    "stands_filtered = stands_filtered[['STAND_CN', 'STAND_ID', 'INVYR', 'INV_MONTH', 'DG_MEASURE', 'STAND_ID2', 'PLT_CN', 'CONDID']]\n",
    "stands_filtered.shape[0]"
   ]
  },
  {
   "cell_type": "code",
   "execution_count": 147,
   "metadata": {},
   "outputs": [
    {
     "name": "stdout",
     "output_type": "stream",
     "text": [
      "1202\n"
     ]
    },
    {
     "data": {
      "text/html": [
       "<div>\n",
       "<style scoped>\n",
       "    .dataframe tbody tr th:only-of-type {\n",
       "        vertical-align: middle;\n",
       "    }\n",
       "\n",
       "    .dataframe tbody tr th {\n",
       "        vertical-align: top;\n",
       "    }\n",
       "\n",
       "    .dataframe thead th {\n",
       "        text-align: right;\n",
       "    }\n",
       "</style>\n",
       "<table border=\"1\" class=\"dataframe\">\n",
       "  <thead>\n",
       "    <tr style=\"text-align: right;\">\n",
       "      <th></th>\n",
       "      <th>STAND_CN</th>\n",
       "      <th>STAND_ID</th>\n",
       "      <th>INVYR</th>\n",
       "      <th>STAND_ID2</th>\n",
       "      <th>PLT_CN</th>\n",
       "      <th>CONDID</th>\n",
       "      <th>calc_years</th>\n",
       "    </tr>\n",
       "  </thead>\n",
       "  <tbody>\n",
       "    <tr>\n",
       "      <th>0</th>\n",
       "      <td>23652219010900</td>\n",
       "      <td>00062001050101015506791</td>\n",
       "      <td>2001.0</td>\n",
       "      <td>0000101015506791</td>\n",
       "      <td>23652215010900</td>\n",
       "      <td>1</td>\n",
       "      <td>10.4</td>\n",
       "    </tr>\n",
       "  </tbody>\n",
       "</table>\n",
       "</div>"
      ],
      "text/plain": [
       "         STAND_CN                 STAND_ID   INVYR         STAND_ID2  \\\n",
       "0  23652219010900  00062001050101015506791  2001.0  0000101015506791   \n",
       "\n",
       "           PLT_CN  CONDID  calc_years  \n",
       "0  23652215010900       1        10.4  "
      ]
     },
     "execution_count": 147,
     "metadata": {},
     "output_type": "execute_result"
    }
   ],
   "source": [
    "# determine years between measurement based on number of grow seasons. \n",
    "# each month in a grow month is assigned a value based on growth month\n",
    "stands = stands_filtered\n",
    "conditions = [\n",
    "    (stands['INV_MONTH'] == 5),\n",
    "    (stands['INV_MONTH'] == 6),\n",
    "    (stands['INV_MONTH'] == 7),\n",
    "    (stands['INV_MONTH'] == 8),\n",
    "    (stands['INV_MONTH'] == 9)\n",
    "]\n",
    "values = [2, 4, 6, 8, 10]\n",
    "stands['month_grow'] = np.select(conditions, values, default=0)\n",
    "\n",
    "# split dataframe by 1st and 2nd measurement\n",
    "first = stands.drop_duplicates(subset = ['STAND_ID2'], keep = 'first')[['STAND_ID2', 'INVYR', 'month_grow', 'DG_MEASURE']]\\\n",
    "    .rename(columns={'INVYR': 'invyr1', 'month_grow': 'month1', 'DG_MEASURE':'dg1'})\n",
    "second = stands.drop_duplicates(subset = ['STAND_ID2'], keep = 'last')[['STAND_ID2', 'INVYR', 'month_grow', 'DG_MEASURE']]\\\n",
    "    .rename(columns={'INVYR': 'invyr2', 'month_grow': 'month2', 'DG_MEASURE':'dg2'})\n",
    "# recombine in wide format\n",
    "mix = first.merge(second, how='inner', on='STAND_ID2')\n",
    "# growth/year calcuation\n",
    "mix['calc_years'] = mix['dg2'] + ((mix['month2']-mix['month1'])/10)\n",
    "\n",
    "mix = mix[['STAND_ID2', 'calc_years']]\n",
    "\n",
    "stands_filtered2 = stands_filtered.merge(mix, how='inner', on='STAND_ID2')[['STAND_CN', 'STAND_ID', 'INVYR', 'STAND_ID2', 'PLT_CN', 'CONDID', 'calc_years']]\n",
    "\n",
    "print(stands_filtered2.shape[0])\n",
    "stands_filtered2.head(1)"
   ]
  },
  {
   "cell_type": "code",
   "execution_count": 148,
   "metadata": {},
   "outputs": [
    {
     "name": "stdout",
     "output_type": "stream",
     "text": [
      "[2001. 2002. 2003. 2004. 2005. 2006. 2007. 2008. 2009. 2010.]\n",
      "[2011. 2012. 2013. 2014. 2015. 2017. 2016. 2018. 2019.]\n"
     ]
    }
   ],
   "source": [
    "# print second measurement years for later\n",
    "print(first['invyr1'].unique())\n",
    "print(second['invyr2'].unique())"
   ]
  },
  {
   "cell_type": "code",
   "execution_count": 149,
   "metadata": {},
   "outputs": [
    {
     "data": {
      "text/plain": [
       "601"
      ]
     },
     "execution_count": 149,
     "metadata": {},
     "output_type": "execute_result"
    }
   ],
   "source": [
    "# select first measurment year for our filtered years for input database\n",
    "stand_grow_id = stands_filtered2[['STAND_ID', 'calc_years']]\n",
    "stands_init = stands_filtered2.drop_duplicates(subset = ['STAND_ID2'], keep = 'first')\n",
    "stands_init = stands_init[['STAND_ID']]\n",
    "stands_init.shape[0]"
   ]
  },
  {
   "attachments": {},
   "cell_type": "markdown",
   "metadata": {},
   "source": [
    "Create an input database from filtered stands"
   ]
  },
  {
   "cell_type": "code",
   "execution_count": 150,
   "metadata": {},
   "outputs": [],
   "source": [
    "# read tables in from CA FIA database\n",
    "fvs_stands = pd.read_sql_query(\"select * from FVS_STANDINIT_COND where VARIANT = 'NC'\", conn)\n",
    "fvs_trees = pd.read_sql_query(\"select * from FVS_TREEINIT_COND\", conn)"
   ]
  },
  {
   "cell_type": "code",
   "execution_count": 151,
   "metadata": {},
   "outputs": [
    {
     "data": {
      "text/plain": [
       "601"
      ]
     },
     "execution_count": 151,
     "metadata": {},
     "output_type": "execute_result"
    }
   ],
   "source": [
    "fvs_stands_init = fvs_stands.merge(stands_init, how='inner', on='STAND_ID')\n",
    "fvs_stands_init = fvs_stands_init[['STAND_CN', 'STAND_ID', 'VARIANT', 'INV_YEAR', 'GROUPS', 'ADDFILES', 'LATITUDE', 'LONGITUDE', 'REGION', 'FOREST', 'DISTRICT', 'LOCATION', 'ECOREGION',\n",
    "    'AGE', 'ASPECT', 'SLOPE', 'ELEVATION', 'ELEVFT', 'BASAL_AREA_FACTOR', 'INV_PLOT_SIZE', 'BRK_DBH', 'NUM_PLOTS', 'SAM_WT', 'DG_TRANS', 'DG_MEASURE', 'HTG_TRANS', 'HTG_MEASURE',\n",
    "    'SITE_SPECIES', 'SITE_INDEX', 'SITE_INDEX_BASE_AG', 'PHYSIO_REGION', 'FOREST_TYPE_FIA', 'STATE', 'COUNTY', 'FUEL_MODEL']]\n",
    "fvs_stands_init.shape[0]"
   ]
  },
  {
   "attachments": {},
   "cell_type": "markdown",
   "metadata": {},
   "source": [
    "Tree List\n",
    "* Filter FVS_Treeinit_cond table to filtered stand list:"
   ]
  },
  {
   "cell_type": "code",
   "execution_count": 152,
   "metadata": {},
   "outputs": [
    {
     "data": {
      "text/html": [
       "<div>\n",
       "<style scoped>\n",
       "    .dataframe tbody tr th:only-of-type {\n",
       "        vertical-align: middle;\n",
       "    }\n",
       "\n",
       "    .dataframe tbody tr th {\n",
       "        vertical-align: top;\n",
       "    }\n",
       "\n",
       "    .dataframe thead th {\n",
       "        text-align: right;\n",
       "    }\n",
       "</style>\n",
       "<table border=\"1\" class=\"dataframe\">\n",
       "  <thead>\n",
       "    <tr style=\"text-align: right;\">\n",
       "      <th></th>\n",
       "      <th>STAND_CN</th>\n",
       "      <th>STAND_ID</th>\n",
       "      <th>PLOT_CN</th>\n",
       "      <th>STANDPLOT_CN</th>\n",
       "      <th>STANDPLOT_ID</th>\n",
       "      <th>PLOT_ID</th>\n",
       "      <th>TREE_CN</th>\n",
       "      <th>TREE_ID</th>\n",
       "      <th>TAG_ID</th>\n",
       "      <th>AZIMUTH</th>\n",
       "      <th>...</th>\n",
       "      <th>PV_REF_CODE</th>\n",
       "      <th>TOPOCODE</th>\n",
       "      <th>SITEPREP</th>\n",
       "      <th>CREATED_BY</th>\n",
       "      <th>CREATED_DATE</th>\n",
       "      <th>CREATED_IN_INSTANCE</th>\n",
       "      <th>MODIFIED_BY</th>\n",
       "      <th>MODIFIED_DATE</th>\n",
       "      <th>MODIFIED_IN_INSTANCE</th>\n",
       "      <th>VERSION</th>\n",
       "    </tr>\n",
       "  </thead>\n",
       "  <tbody>\n",
       "    <tr>\n",
       "      <th>0</th>\n",
       "      <td>446767010497</td>\n",
       "      <td>00062008050801045666311</td>\n",
       "      <td>29394784010497</td>\n",
       "      <td>446767010497_1</td>\n",
       "      <td>00062008050801045666311_1</td>\n",
       "      <td>1.0</td>\n",
       "      <td>721791010497</td>\n",
       "      <td>500.0</td>\n",
       "      <td>None</td>\n",
       "      <td>51.0</td>\n",
       "      <td>...</td>\n",
       "      <td>None</td>\n",
       "      <td>None</td>\n",
       "      <td>None</td>\n",
       "      <td>JDSHAW</td>\n",
       "      <td>2020-08-13 12:18:55</td>\n",
       "      <td>290487</td>\n",
       "      <td>None</td>\n",
       "      <td>None</td>\n",
       "      <td>None</td>\n",
       "      <td>2.0.12</td>\n",
       "    </tr>\n",
       "  </tbody>\n",
       "</table>\n",
       "<p>1 rows × 56 columns</p>\n",
       "</div>"
      ],
      "text/plain": [
       "       STAND_CN                 STAND_ID         PLOT_CN    STANDPLOT_CN  \\\n",
       "0  446767010497  00062008050801045666311  29394784010497  446767010497_1   \n",
       "\n",
       "                STANDPLOT_ID  PLOT_ID       TREE_CN  TREE_ID TAG_ID  AZIMUTH  \\\n",
       "0  00062008050801045666311_1      1.0  721791010497    500.0   None     51.0   \n",
       "\n",
       "   ...  PV_REF_CODE TOPOCODE  SITEPREP  CREATED_BY         CREATED_DATE  \\\n",
       "0  ...         None     None      None      JDSHAW  2020-08-13 12:18:55   \n",
       "\n",
       "   CREATED_IN_INSTANCE MODIFIED_BY  MODIFIED_DATE  MODIFIED_IN_INSTANCE  \\\n",
       "0               290487        None           None                  None   \n",
       "\n",
       "   VERSION  \n",
       "0   2.0.12  \n",
       "\n",
       "[1 rows x 56 columns]"
      ]
     },
     "execution_count": 152,
     "metadata": {},
     "output_type": "execute_result"
    }
   ],
   "source": [
    "# create FVS_treeinit table containing trees for our filtered stands.\n",
    "fvs_trees_init = fvs_trees.merge(stands_init, how = 'inner', on = 'STAND_ID')\n",
    "\n",
    "fvs_trees_init.head(1)"
   ]
  },
  {
   "cell_type": "code",
   "execution_count": 153,
   "metadata": {},
   "outputs": [
    {
     "data": {
      "text/plain": [
       "24555"
      ]
     },
     "execution_count": 153,
     "metadata": {},
     "output_type": "execute_result"
    }
   ],
   "source": [
    "# create and send tables to an input FVS sqlite database\n",
    "conn2 = sqlite3.connect('../data/FVSIn.db')\n",
    "fvs_stands_init.to_sql('fvs_standinit', conn2, if_exists='replace', index=False)\n",
    "fvs_trees_init.to_sql('fvs_treeinit', conn2, if_exists = 'replace', index=False)"
   ]
  },
  {
   "attachments": {},
   "cell_type": "markdown",
   "metadata": {},
   "source": [
    "#### 2. Create list of filtered FIA trees and calculate TPA"
   ]
  },
  {
   "attachments": {},
   "cell_type": "markdown",
   "metadata": {},
   "source": [
    "* Filter FIA tree records to only include trees that are in our subset of stands\n",
    "* Filter out trees from Time2 that are not present at Time1\n",
    "* Calculate TPA to match FVS TPA calculations"
   ]
  },
  {
   "cell_type": "markdown",
   "metadata": {},
   "source": [
    "Read in FIA tree data with volume calculated in NVEL"
   ]
  },
  {
   "cell_type": "code",
   "execution_count": 154,
   "metadata": {},
   "outputs": [],
   "source": [
    "volume_calc = pd.read_excel('../data/NC_trees_for_NVEL_calc.xlsx' )"
   ]
  },
  {
   "attachments": {},
   "cell_type": "markdown",
   "metadata": {},
   "source": [
    "Filter FIA tree records to only include trees that are in our subset of stands"
   ]
  },
  {
   "cell_type": "code",
   "execution_count": 155,
   "metadata": {},
   "outputs": [
    {
     "name": "stdout",
     "output_type": "stream",
     "text": [
      "46137\n"
     ]
    },
    {
     "data": {
      "text/html": [
       "<div>\n",
       "<style scoped>\n",
       "    .dataframe tbody tr th:only-of-type {\n",
       "        vertical-align: middle;\n",
       "    }\n",
       "\n",
       "    .dataframe tbody tr th {\n",
       "        vertical-align: top;\n",
       "    }\n",
       "\n",
       "    .dataframe thead th {\n",
       "        text-align: right;\n",
       "    }\n",
       "</style>\n",
       "<table border=\"1\" class=\"dataframe\">\n",
       "  <thead>\n",
       "    <tr style=\"text-align: right;\">\n",
       "      <th></th>\n",
       "      <th>STAND_CN</th>\n",
       "      <th>STAND_ID</th>\n",
       "      <th>INVYR</th>\n",
       "      <th>TRE_CN</th>\n",
       "      <th>TREE</th>\n",
       "      <th>STATUSCD</th>\n",
       "      <th>TPA_UNADJ</th>\n",
       "      <th>CONDPROP_UNADJ</th>\n",
       "      <th>VOLUME_CVTS</th>\n",
       "      <th>VOLUME_CV4</th>\n",
       "    </tr>\n",
       "  </thead>\n",
       "  <tbody>\n",
       "    <tr>\n",
       "      <th>0</th>\n",
       "      <td>23652219010900</td>\n",
       "      <td>00062001050101015506791</td>\n",
       "      <td>2001</td>\n",
       "      <td>23652246010900</td>\n",
       "      <td>100</td>\n",
       "      <td>1</td>\n",
       "      <td>6.018046</td>\n",
       "      <td>1.0</td>\n",
       "      <td>6.742738</td>\n",
       "      <td>2.9</td>\n",
       "    </tr>\n",
       "  </tbody>\n",
       "</table>\n",
       "</div>"
      ],
      "text/plain": [
       "         STAND_CN                 STAND_ID  INVYR          TRE_CN  TREE  \\\n",
       "0  23652219010900  00062001050101015506791   2001  23652246010900   100   \n",
       "\n",
       "   STATUSCD  TPA_UNADJ  CONDPROP_UNADJ  VOLUME_CVTS  VOLUME_CV4  \n",
       "0         1   6.018046             1.0     6.742738         2.9  "
      ]
     },
     "execution_count": 155,
     "metadata": {},
     "output_type": "execute_result"
    }
   ],
   "source": [
    "# add key values to volume_calc\n",
    "volume = volume_calc\n",
    "volume['STAND_CN'] = volume['STAND_CN'].astype(str)\n",
    "volume['TRE_CN'] = volume['TRE_CN'].astype(str)\n",
    "stands_filtered_id = stands_filtered2[['STAND_CN', 'STAND_ID']]\n",
    "volume = volume.merge(stands_filtered_id, on = 'STAND_CN')\n",
    "\n",
    "# add cond_prop for later calculations\n",
    "cond_prop = cond[['STAND_CN', 'CONDPROP_UNADJ']]\n",
    "volume = volume.merge(cond_prop, on='STAND_CN')\n",
    "\n",
    "volume = volume[['STAND_CN', 'STAND_ID', 'INVYR', 'TRE_CN', 'TREE', 'STATUSCD', 'TPA_UNADJ', 'CONDPROP_UNADJ', 'VOLUME_CVTS', 'VOLUME_CV4']]\n",
    "print(volume.shape[0])\n",
    "volume.head(1)"
   ]
  },
  {
   "attachments": {},
   "cell_type": "markdown",
   "metadata": {},
   "source": [
    "Remove stands from FVS Input database that don't have trees associated with them in the volume database"
   ]
  },
  {
   "cell_type": "code",
   "execution_count": 156,
   "metadata": {},
   "outputs": [
    {
     "data": {
      "text/plain": [
       "527"
      ]
     },
     "execution_count": 156,
     "metadata": {},
     "output_type": "execute_result"
    }
   ],
   "source": [
    "# check that all stands in our stand list have trees\n",
    "list = volume['STAND_ID'].unique().tolist()\n",
    "fvs_stands_init2 = fvs_stands_init[fvs_stands_init['STAND_ID'].isin(list)]\n",
    "fvs_stands_init2.to_sql('fvs_standinit', conn2, if_exists='replace', index=False)"
   ]
  },
  {
   "attachments": {},
   "cell_type": "markdown",
   "metadata": {},
   "source": [
    "Calculate TPA to match FVS TPA calculations"
   ]
  },
  {
   "cell_type": "code",
   "execution_count": 157,
   "metadata": {},
   "outputs": [],
   "source": [
    "volume['TPA'] = volume['TPA_UNADJ']/volume['CONDPROP_UNADJ']"
   ]
  },
  {
   "attachments": {},
   "cell_type": "markdown",
   "metadata": {},
   "source": [
    "Filter out trees from Time 2 that are not present at Time 1"
   ]
  },
  {
   "cell_type": "code",
   "execution_count": 158,
   "metadata": {},
   "outputs": [],
   "source": [
    "# read in Prev_tre_cn value from FIA TREE table\n",
    "fia_trees = pd.read_sql_query(\"select CN AS TRE_CN, PREV_TRE_CN from TREE\", conn)"
   ]
  },
  {
   "cell_type": "code",
   "execution_count": 159,
   "metadata": {},
   "outputs": [],
   "source": [
    "# join with the volume table on TRE_CN\n",
    "filter = volume.merge(fia_trees, on='TRE_CN', how='inner')\n",
    "filter.head(1)\n",
    "\n",
    "# split dataframe by 1st and 2nd measurement\n",
    "first = filter.loc[filter['INVYR'] < 2011][['TRE_CN']]\n",
    "second = filter.loc[filter['INVYR'] > 2010][['TRE_CN', 'PREV_TRE_CN']].rename(columns={'TRE_CN': 'TRE_CN2'})\n",
    "\n",
    "# filter second record to trees only present in time 1\n",
    "second_filter = second.merge(first, how = 'inner', left_on='PREV_TRE_CN', right_on='TRE_CN')[['TRE_CN2']].rename(columns={'TRE_CN2': 'TRE_CN'})\n",
    "\n",
    "# concatenate list of Tre_cns\n",
    "tree_ids = pd.concat([first, second_filter])\n",
    "# filter volume tree records to only include those trees\n",
    "volume = volume.merge(tree_ids, how='inner', on='TRE_CN')"
   ]
  },
  {
   "attachments": {},
   "cell_type": "markdown",
   "metadata": {},
   "source": [
    "#### 3. Calculate groundtruth values from filtered FIA tree data"
   ]
  },
  {
   "attachments": {},
   "cell_type": "markdown",
   "metadata": {},
   "source": [
    "Metric calculation descriptions\n",
    "* **Accretion**: Summed tree tcuft values as calcuated by NVEL expanded using manually calculated TPA values from FIA (tpa_unadj/condprop) + Mort Value\n",
    "* **Mortality**: Summed tree tcuft values as calcuated by NVEL, for dead trees, expanded using manually calculated TPA values from FIA (tpa_unadj/condprop)"
   ]
  },
  {
   "attachments": {},
   "cell_type": "markdown",
   "metadata": {},
   "source": [
    "Prep data\n",
    "* Expand volumes by TPA\n",
    "* Update STATUSCD values"
   ]
  },
  {
   "cell_type": "code",
   "execution_count": 161,
   "metadata": {},
   "outputs": [],
   "source": [
    "#expand by TPA\n",
    "volume['vol_exp'] = volume['VOLUME_CVTS'] * volume['TPA']\n",
    "\n",
    "#get common on the tree value/STATUSCD values\n",
    "volume.loc[(volume['STATUSCD'] == 6), 'STATUSCD'] = 7\n",
    "volume.loc[(volume['STATUSCD'] == 8), 'STATUSCD'] = 9"
   ]
  },
  {
   "cell_type": "code",
   "execution_count": 162,
   "metadata": {},
   "outputs": [],
   "source": [
    "#sum by stand\n",
    "volume_agg = volume.groupby(['STAND_ID', 'INVYR', 'STATUSCD'], as_index=False).agg({'vol_exp': 'sum'})\n",
    "volume_agg = volume_agg.merge(stand_grow_id, how = 'left', on = 'STAND_ID')"
   ]
  },
  {
   "cell_type": "code",
   "execution_count": 163,
   "metadata": {},
   "outputs": [],
   "source": [
    "# need find difference between remeasurement years and normalize by calc_years\n",
    "\n",
    "# create STAND_ID2 - scrape stand_id so remeasurement ids match\n",
    "volume_agg['STAND_ID2'] = volume_agg['STAND_ID'].str[0:3] + volume_agg['STAND_ID'].str[10:]\n",
    "\n",
    "# split dataframe by 1st and 2nd measurement\n",
    "first = volume_agg.loc[volume_agg['INVYR'] < 2011].rename(columns={'STAND_ID': 'STAND_ID_1', 'INVYR':'INVYR_1', 'vol_exp':'vol_exp_1'})\n",
    "second = volume_agg.loc[volume_agg['INVYR'] > 2010].rename(columns={'STAND_ID': 'STAND_ID_2', 'INVYR':'INVYR_2', 'vol_exp':'vol_exp_2'})\n",
    "\n",
    "join = first.merge(second, how = 'outer', on = ['STAND_ID2','STATUSCD', 'calc_years'])\n",
    "join = join.loc[join['STATUSCD'] != 9]\n",
    "join['vol_exp_1'] = join['vol_exp_1'].fillna(0)\n",
    "\n",
    "# calculate differenece in volume for mortality and accretion\n",
    "join['diff'] = join['vol_exp_2'] - join['vol_exp_1']"
   ]
  },
  {
   "cell_type": "code",
   "execution_count": 164,
   "metadata": {},
   "outputs": [],
   "source": [
    "# calculate annual growth/mortality value, divide by decimal growth years\n",
    "join['diff_annual'] = join['diff']/join['calc_years']"
   ]
  },
  {
   "cell_type": "code",
   "execution_count": 175,
   "metadata": {},
   "outputs": [],
   "source": [
    "# clean it all up\n",
    "# create mort df\n",
    "mort = join.loc[join['STATUSCD'] == 7][['STAND_ID2', 'diff_annual']].rename(columns={'diff_annual':'mort'})\n",
    "# create acc df\n",
    "acc = join.loc[join['STATUSCD'] == 1][['STAND_ID2', 'STAND_ID_1', 'diff_annual']].rename(columns={'diff_annual':'growth'})\n",
    "\n",
    "#join em\n",
    "values = acc.merge(mort, how='left', on=('STAND_ID2')).dropna(subset='STAND_ID_1').rename(columns={'STAND_ID_1':'STAND_ID'})\n",
    "values['mort'] = values['mort'].fillna(0)\n",
    "values['acc'] = values['growth']+values['mort']"
   ]
  },
  {
   "cell_type": "code",
   "execution_count": 177,
   "metadata": {},
   "outputs": [],
   "source": [
    "# export groundtruth data to csv \n",
    "values.to_excel('../data/groundtruth.xlsx' )"
   ]
  },
  {
   "cell_type": "code",
   "execution_count": 178,
   "metadata": {},
   "outputs": [],
   "source": [
    "conn.close()\n",
    "conn2.close()"
   ]
  }
 ],
 "metadata": {
  "kernelspec": {
   "display_name": "sql",
   "language": "python",
   "name": "python3"
  },
  "language_info": {
   "codemirror_mode": {
    "name": "ipython",
    "version": 3
   },
   "file_extension": ".py",
   "mimetype": "text/x-python",
   "name": "python",
   "nbconvert_exporter": "python",
   "pygments_lexer": "ipython3",
   "version": "3.10.4"
  },
  "orig_nbformat": 4,
  "vscode": {
   "interpreter": {
    "hash": "a19f955932071308ba93aaf574f1cb9f3b67dd9c51fd0350f4a04dccbcdb5dce"
   }
  }
 },
 "nbformat": 4,
 "nbformat_minor": 2
}
