{
 "cells": [
  {
   "cell_type": "code",
   "execution_count": 77,
   "metadata": {},
   "outputs": [],
   "source": [
    "import sqlite3\n",
    "import pandasql as ps\n",
    "\n",
    "import pandas as pd\n",
    "import numpy as np\n",
    "\n",
    "import openpyxl"
   ]
  },
  {
   "cell_type": "code",
   "execution_count": 85,
   "metadata": {},
   "outputs": [],
   "source": [
    "#read in source tables \n",
    "DB_PATH = r'D:FIA\\FIADB_CA.db'\n",
    "\n",
    "con = sqlite3.connect(DB_PATH)\n",
    "# grab NC stands\n",
    "stands = pd.read_sql_query(\"select STAND_CN, STAND_ID, INV_YEAR from FVS_STANDINIT_COND where VARIANT = 'NC'\", con)"
   ]
  },
  {
   "cell_type": "code",
   "execution_count": 39,
   "metadata": {},
   "outputs": [],
   "source": [
    "# scrape stand_id so remeasurement ids match\n",
    "#stands['INV_YEAR'] = stands['INV_YEAR'].astype(int)\n",
    "stands['STAND_ID'] = stands['STAND_ID'].str[0:3] + stands['STAND_ID'].str[10:]"
   ]
  },
  {
   "cell_type": "code",
   "execution_count": 41,
   "metadata": {},
   "outputs": [],
   "source": [
    "# drop stands with no remeasurment data\n",
    "stands = stands.sort_values(by=['STAND_ID', 'INV_YEAR'])\n",
    "remeasured_stands = stands[stands.duplicated(subset=['STAND_ID'], keep=False)]"
   ]
  },
  {
   "cell_type": "code",
   "execution_count": 63,
   "metadata": {},
   "outputs": [],
   "source": [
    "# grab the trees and cond tables\n",
    "cond = pd.read_sql_query(\"select CN, PLT_CN, CONDID from COND\", con)\n",
    "trees = pd.read_sql_query(\"select PLT_CN, CONDID, INVYR, TREE, STATUSCD, SPCD, DIA, HT, VOLCFNET, VOLCFGRS from TREE\", con)"
   ]
  },
  {
   "cell_type": "code",
   "execution_count": 70,
   "metadata": {},
   "outputs": [
    {
     "data": {
      "text/plain": [
       "390955"
      ]
     },
     "execution_count": 70,
     "metadata": {},
     "output_type": "execute_result"
    }
   ],
   "source": [
    "# use cond table to get plt_cn to match with trees table\n",
    "trees_id = trees.merge(cond, how='left', on=['PLT_CN', 'CONDID'])"
   ]
  },
  {
   "cell_type": "code",
   "execution_count": 75,
   "metadata": {},
   "outputs": [],
   "source": [
    "# grab tress for stands in our remeasured stands database\n",
    "stand_trees = ps.sqldf(\"\"\"select PLT_CN, CONDID, TREE, STATUSCD, SPCD, DIA, HT, VOLCFNET, VOLCFGRS, STAND_ID from trees_id t join remeasured_stands s on t.CN = s.STAND_CN AND t.INVYR = s.INV_YEAR\"\"\")"
   ]
  },
  {
   "cell_type": "code",
   "execution_count": 84,
   "metadata": {},
   "outputs": [
    {
     "data": {
      "text/plain": [
       "array([ 15.,  17.,  20.,  21.,  22.,  41.,  54.,  55.,  81.,  92.,  93.,\n",
       "        98., 103., 108., 109., 116., 117., 119., 120., 122., 124., 127.,\n",
       "       202., 211., 231., 242., 251., 263., 264., 312., 313., 333., 351.,\n",
       "       352., 361., 431., 492., 510., 511., 542., 631., 730., 748., 763.,\n",
       "       768., 801., 805., 807., 815., 818., 821., 826., 839., 981., 998.])"
      ]
     },
     "execution_count": 84,
     "metadata": {},
     "output_type": "execute_result"
    }
   ],
   "source": [
    "# now we need the fia equation for region and species\n",
    "species = stand_trees['SPCD'].unique()\n",
    "species.sort()\n",
    "species\n",
    "\n",
    "## create matrix for fia equation"
   ]
  },
  {
   "cell_type": "code",
   "execution_count": 78,
   "metadata": {},
   "outputs": [],
   "source": [
    "# export to excel for use in National Volume Estimator Library (NVEL)\n",
    "stand_trees.to_excel(r'D:\\fvs_calibration\\data\\interim\\NC_trees_for_NVEL.xlsx')"
   ]
  }
 ],
 "metadata": {
  "kernelspec": {
   "display_name": "Python 3.10.4 ('sql': conda)",
   "language": "python",
   "name": "python3"
  },
  "language_info": {
   "codemirror_mode": {
    "name": "ipython",
    "version": 3
   },
   "file_extension": ".py",
   "mimetype": "text/x-python",
   "name": "python",
   "nbconvert_exporter": "python",
   "pygments_lexer": "ipython3",
   "version": "3.10.4"
  },
  "orig_nbformat": 4,
  "vscode": {
   "interpreter": {
    "hash": "a19f955932071308ba93aaf574f1cb9f3b67dd9c51fd0350f4a04dccbcdb5dce"
   }
  }
 },
 "nbformat": 4,
 "nbformat_minor": 2
}
