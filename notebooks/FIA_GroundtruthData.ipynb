{
 "cells": [
  {
   "cell_type": "code",
   "execution_count": 175,
   "metadata": {},
   "outputs": [],
   "source": [
    "import sqlite3\n",
    "import pandasql as ps\n",
    "\n",
    "import pandas as pd\n",
    "import numpy as np\n",
    "\n",
    "import openpyxl\n",
    "\n",
    "import plotnine as p9\n",
    "\n",
    "import warnings\n",
    "warnings.filterwarnings('ignore')"
   ]
  },
  {
   "cell_type": "code",
   "execution_count": 176,
   "metadata": {},
   "outputs": [],
   "source": [
    "OUT_PATH = 'D:/fvs_calibration/data/interim'"
   ]
  },
  {
   "cell_type": "code",
   "execution_count": 177,
   "metadata": {},
   "outputs": [],
   "source": [
    "#read in source tables \n",
    "DB_PATH = 'D:FIA/FIADB_CA.db'\n",
    "\n",
    "con = sqlite3.connect(DB_PATH)\n",
    "# grab NC stands\n",
    "stands = pd.read_sql_query(\"select STAND_CN, STAND_ID, INV_YEAR, REGION, FOREST from FVS_STANDINIT_COND where VARIANT = 'NC'\", con)"
   ]
  },
  {
   "cell_type": "code",
   "execution_count": 178,
   "metadata": {},
   "outputs": [],
   "source": [
    "# scrape stand_id so remeasurement ids match\n",
    "#stands['INV_YEAR'] = stands['INV_YEAR'].astype(int)\n",
    "stands['STAND_ID'] = stands['STAND_ID'].str[0:3] + stands['STAND_ID'].str[10:]"
   ]
  },
  {
   "cell_type": "code",
   "execution_count": 179,
   "metadata": {},
   "outputs": [],
   "source": [
    "# drop stands with no remeasurment data\n",
    "stands = stands.sort_values(by=['STAND_ID', 'INV_YEAR', 'REGION', 'FOREST'])\n",
    "remeasured_stands = stands[stands.duplicated(subset=['STAND_ID'], keep=False)]"
   ]
  },
  {
   "cell_type": "code",
   "execution_count": 180,
   "metadata": {},
   "outputs": [],
   "source": [
    "# grab the trees and cond tables\n",
    "cond = pd.read_sql_query(\"select CN, PLT_CN, CONDID from COND\", con)\n",
    "trees = pd.read_sql_query(\"select PLT_CN, CONDID, INVYR, TREE, STATUSCD, SPCD, DIA, HT, VOLCFNET, VOLCFGRS from TREE\", con)"
   ]
  },
  {
   "cell_type": "code",
   "execution_count": 181,
   "metadata": {},
   "outputs": [],
   "source": [
    "# use cond table to get plt_cn to match with trees table\n",
    "trees_id = trees.merge(cond, how='left', on=['PLT_CN', 'CONDID'])"
   ]
  },
  {
   "cell_type": "code",
   "execution_count": 193,
   "metadata": {},
   "outputs": [],
   "source": [
    "# grab tress for stands in our remeasured stands database\n",
    "stand_trees = ps.sqldf(\"\"\"select PLT_CN, CONDID, INVYR, TREE, STATUSCD, SPCD, DIA, HT, VOLCFNET, VOLCFGRS, STAND_ID, REGION, FOREST \n",
    "                          from trees_id t join remeasured_stands s on t.CN = s.STAND_CN AND t.INVYR = s.INV_YEAR\n",
    "                          WHERE t.DIA >= 3.0\"\"\")"
   ]
  },
  {
   "cell_type": "code",
   "execution_count": 195,
   "metadata": {},
   "outputs": [],
   "source": [
    "# export to excel for use in National Volume Estimator Library (NVEL)\n",
    "stand_trees.to_excel(OUT_PATH + '/NC_trees_for_NVEL.xlsx')"
   ]
  },
  {
   "cell_type": "markdown",
   "metadata": {},
   "source": [
    "Bring data back in from Excel with volumes calcuated using NVEL. Save updated workbook as NC_trees_for_NVEL_calc\n",
    "['EQUATION'] = '=VolumeEquationNumber(L2,M$,1,F2,2)' \n",
    "['VOLCALC'] = '=calcFiaVol(N2,F2,G2,H2)' Determine what volume to use \"CVTS\" or \"CV4\""
   ]
  },
  {
   "cell_type": "code",
   "execution_count": 70,
   "metadata": {},
   "outputs": [],
   "source": [
    "volume_calc = pd.read_excel(OUT_PATH + '/NC_trees_for_NVEL_calc.xlsx')"
   ]
  },
  {
   "cell_type": "code",
   "execution_count": 83,
   "metadata": {},
   "outputs": [
    {
     "data": {
      "text/plain": [
       "count    59977.000000\n",
       "mean        13.246799\n",
       "std         27.862397\n",
       "min          0.000000\n",
       "25%          0.348000\n",
       "50%          2.979000\n",
       "75%         13.681000\n",
       "max        435.024000\n",
       "Name: per_diff, dtype: float64"
      ]
     },
     "execution_count": 83,
     "metadata": {},
     "output_type": "execute_result"
    }
   ],
   "source": [
    "# calculate difference between FIA calculated volumes and volumes calc va NVEL\n",
    "# need to drop records where volume_calc = NULL or VOLCALC = 0\n",
    "qa = volume_calc.loc[~((volume_calc['VOLCFGRS'] == '') |  (volume_calc['VOLCALC'] == 0))]\n",
    "qa['diff'] = abs((qa['VOLCFGRS'] - qa['VOLCALC']))\n",
    "qa['per_diff'] = round(qa['diff']/qa['VOLCALC']*100, 3)\n",
    "qa['per_diff'].describe()"
   ]
  },
  {
   "cell_type": "code",
   "execution_count": 84,
   "metadata": {},
   "outputs": [
    {
     "data": {
      "image/png": "[encoded data removed]",
      "text/plain": [
       "<Figure size 640x480 with 1 Axes>"
      ]
     },
     "metadata": {},
     "output_type": "display_data"
    },
    {
     "data": {
      "text/plain": [
       "<ggplot: (184372402732)>"
      ]
     },
     "execution_count": 84,
     "metadata": {},
     "output_type": "execute_result"
    }
   ],
   "source": [
    "# assign size classes: 3-5, 5-10, 10-15, 15-20, >20\n",
    "conditions = [(qa['DIA'] < 5),\n",
    "              (qa['DIA'] >= 5) & (qa['DIA'] < 10),\n",
    "              (qa['DIA'] >= 10) & (qa['DIA'] <= 15), \n",
    "              (qa['DIA'] >= 15) & (qa['DIA'] <= 20), \n",
    "              (qa['DIA'] >= 20)]\n",
    "\n",
    "values = ['3-5in', '5-10in', '10-15in', '15-20in', '>20in']\n",
    "\n",
    "qa[\"DBH Class\"] = np.select(conditions, values)\n",
    "qa=qa.sort_values(by=['DIA'])\n",
    "\n",
    "(p9.ggplot(qa, aes(x = 'DBH Class', y ='per_diff', fill='DBH Class' ))\n",
    "    + p9.geom_boxplot()\n",
    "    + p9.scale_x_discrete(limits = ('3-5in', '5-10in', '10-15in', '15-20in', '>20in')))"
   ]
  },
  {
   "cell_type": "code",
   "execution_count": 137,
   "metadata": {},
   "outputs": [],
   "source": [
    "# (p9.ggplot(qa, aes(x = 'DBH Class', y ='per_diff', fill='DBH Class' ))\n",
    "#     + p9.geom_boxplot()\n",
    "#     + p9.scale_x_discrete(limits = ('3-5in', '5-10in', '10-15in', '15-20in', '>20in'))\n",
    "#     + p9.scale_y_continuous(limits = (0, 100)))"
   ]
  },
  {
   "cell_type": "markdown",
   "metadata": {},
   "source": [
    "Do some exploration of how FVS calculates Mort and Acc values.\n",
    "Run several FIA conditions through FVS."
   ]
  },
  {
   "cell_type": "code",
   "execution_count": 183,
   "metadata": {},
   "outputs": [],
   "source": [
    "#read in FVS output\n",
    "DB_PATH = 'C:/FVS/FVS_Calibration_test/FVSOut.db'\n",
    "con2 = sqlite3.connect(DB_PATH)\n",
    "# grab summary, tree, and cases tables\n",
    "fvs_summary = pd.read_sql_query(\"select CaseID, StandID, Year, Tpa, TCuFt, MCuFt, Mort, Acc from FVS_Summary2\", con2)\n",
    "fvs_trees = pd.read_sql_query(\"select StandID, Year, TreeId, SpeciesFIA, TreeVal, DBH, Ht, TCuFt, MCuFt from FVS_TreeList\", con2)\n",
    "fvs_cases = pd.read_sql_query(\"select CaseID, Stand_CN, StandID from FVS_Cases\", con2)"
   ]
  },
  {
   "cell_type": "code",
   "execution_count": 184,
   "metadata": {},
   "outputs": [],
   "source": [
    "#add stand_cn to summary for later joins to FIA data\n",
    "summ = fvs_summary.merge(fvs_cases, how='inner', on=['CaseID', 'StandID'])\n",
    "#remove stands with not trees, filter to first year only\n",
    "summ = summ.loc[(summ['Tpa'] > 0) & (summ['Year']== 2001)]\n",
    "#filter tree records to summ stands\n",
    "summ_id = summ[['StandID', 'Year', 'Stand_CN']]\n",
    "summ_trees = fvs_trees.merge(summ_id, how='inner', on=['StandID', 'Year'])"
   ]
  },
  {
   "cell_type": "code",
   "execution_count": 185,
   "metadata": {},
   "outputs": [],
   "source": [
    "# sum volmes of dead and live trees by stand_cn\n",
    "summ_agg = summ_trees.groupby(['Stand_CN', 'TreeVal'], as_index=False).agg({'TCuFt': 'sum'}).rename(columns={'TCuFt': 'sum_tcuft'})\n",
    "summ_agg['sum_tcuft_year'] = summ_agg['sum_tcuft']/10"
   ]
  },
  {
   "cell_type": "code",
   "execution_count": 186,
   "metadata": {},
   "outputs": [
    {
     "data": {
      "text/html": [
       "<div>\n",
       "<style scoped>\n",
       "    .dataframe tbody tr th:only-of-type {\n",
       "        vertical-align: middle;\n",
       "    }\n",
       "\n",
       "    .dataframe tbody tr th {\n",
       "        vertical-align: top;\n",
       "    }\n",
       "\n",
       "    .dataframe thead th {\n",
       "        text-align: right;\n",
       "    }\n",
       "</style>\n",
       "<table border=\"1\" class=\"dataframe\">\n",
       "  <thead>\n",
       "    <tr style=\"text-align: right;\">\n",
       "      <th></th>\n",
       "      <th>CaseID</th>\n",
       "      <th>StandID</th>\n",
       "      <th>Year</th>\n",
       "      <th>Tpa</th>\n",
       "      <th>TCuFt</th>\n",
       "      <th>MCuFt</th>\n",
       "      <th>Mort</th>\n",
       "      <th>Acc</th>\n",
       "      <th>Stand_CN</th>\n",
       "      <th>TreeVal</th>\n",
       "      <th>sum_tcuft</th>\n",
       "      <th>sum_tcuft_year</th>\n",
       "      <th>vol_per_diff</th>\n",
       "      <th>type</th>\n",
       "    </tr>\n",
       "  </thead>\n",
       "  <tbody>\n",
       "    <tr>\n",
       "      <th>0</th>\n",
       "      <td>57828de3-2a02-4b93-b5ea-a3b3fe6264ba</td>\n",
       "      <td>00062001050101023530221</td>\n",
       "      <td>2001</td>\n",
       "      <td>1090.642334</td>\n",
       "      <td>8145.525391</td>\n",
       "      <td>4116.272949</td>\n",
       "      <td>15.130357</td>\n",
       "      <td>248.907730</td>\n",
       "      <td>23664564010900</td>\n",
       "      <td>1</td>\n",
       "      <td>2704.772791</td>\n",
       "      <td>270.477279</td>\n",
       "      <td>8.665681</td>\n",
       "      <td>Live Trees</td>\n",
       "    </tr>\n",
       "    <tr>\n",
       "      <th>2</th>\n",
       "      <td>18a858e2-0602-451f-8da3-e5965bb889ce</td>\n",
       "      <td>00062001050101023593801</td>\n",
       "      <td>2001</td>\n",
       "      <td>332.043762</td>\n",
       "      <td>4386.397949</td>\n",
       "      <td>1873.369141</td>\n",
       "      <td>7.250462</td>\n",
       "      <td>166.519058</td>\n",
       "      <td>23666637010900</td>\n",
       "      <td>1</td>\n",
       "      <td>409.519441</td>\n",
       "      <td>40.951944</td>\n",
       "      <td>75.407053</td>\n",
       "      <td>Live Trees</td>\n",
       "    </tr>\n",
       "    <tr>\n",
       "      <th>4</th>\n",
       "      <td>1fe0102a-2e8d-4431-a720-39af65eb64d7</td>\n",
       "      <td>00062001050101023593803</td>\n",
       "      <td>2001</td>\n",
       "      <td>208.224548</td>\n",
       "      <td>9591.979492</td>\n",
       "      <td>7892.025391</td>\n",
       "      <td>231.158218</td>\n",
       "      <td>158.933899</td>\n",
       "      <td>23666644010900</td>\n",
       "      <td>1</td>\n",
       "      <td>1241.584225</td>\n",
       "      <td>124.158423</td>\n",
       "      <td>21.880465</td>\n",
       "      <td>Live Trees</td>\n",
       "    </tr>\n",
       "    <tr>\n",
       "      <th>5</th>\n",
       "      <td>b2b4d94d-15a0-4cf2-92da-214cd0eae1ef</td>\n",
       "      <td>00062001050101023755191</td>\n",
       "      <td>2001</td>\n",
       "      <td>335.247864</td>\n",
       "      <td>2450.515625</td>\n",
       "      <td>1905.172119</td>\n",
       "      <td>0.844305</td>\n",
       "      <td>119.503616</td>\n",
       "      <td>23664401010900</td>\n",
       "      <td>1</td>\n",
       "      <td>1020.700018</td>\n",
       "      <td>102.070002</td>\n",
       "      <td>14.588357</td>\n",
       "      <td>Live Trees</td>\n",
       "    </tr>\n",
       "    <tr>\n",
       "      <th>7</th>\n",
       "      <td>5da13935-6493-476a-b0b7-839b693f72d8</td>\n",
       "      <td>00062001050101023755192</td>\n",
       "      <td>2001</td>\n",
       "      <td>585.456421</td>\n",
       "      <td>1513.321533</td>\n",
       "      <td>1174.821655</td>\n",
       "      <td>0.140604</td>\n",
       "      <td>155.367477</td>\n",
       "      <td>23664403010900</td>\n",
       "      <td>1</td>\n",
       "      <td>62.400000</td>\n",
       "      <td>6.240000</td>\n",
       "      <td>95.983715</td>\n",
       "      <td>Live Trees</td>\n",
       "    </tr>\n",
       "    <tr>\n",
       "      <th>9</th>\n",
       "      <td>fb78c723-227b-4281-84a2-0faa666a2ce3</td>\n",
       "      <td>00062001050101045856871</td>\n",
       "      <td>2001</td>\n",
       "      <td>195.213898</td>\n",
       "      <td>1127.581055</td>\n",
       "      <td>552.046326</td>\n",
       "      <td>0.068396</td>\n",
       "      <td>62.255096</td>\n",
       "      <td>23687300010900</td>\n",
       "      <td>1</td>\n",
       "      <td>785.060318</td>\n",
       "      <td>78.506032</td>\n",
       "      <td>26.103783</td>\n",
       "      <td>Live Trees</td>\n",
       "    </tr>\n",
       "    <tr>\n",
       "      <th>1</th>\n",
       "      <td>57828de3-2a02-4b93-b5ea-a3b3fe6264ba</td>\n",
       "      <td>00062001050101023530221</td>\n",
       "      <td>2001</td>\n",
       "      <td>1090.642334</td>\n",
       "      <td>8145.525391</td>\n",
       "      <td>4116.272949</td>\n",
       "      <td>15.130357</td>\n",
       "      <td>248.907730</td>\n",
       "      <td>23664564010900</td>\n",
       "      <td>9</td>\n",
       "      <td>313.115929</td>\n",
       "      <td>31.311593</td>\n",
       "      <td>106.945502</td>\n",
       "      <td>Dead Trees</td>\n",
       "    </tr>\n",
       "    <tr>\n",
       "      <th>3</th>\n",
       "      <td>18a858e2-0602-451f-8da3-e5965bb889ce</td>\n",
       "      <td>00062001050101023593801</td>\n",
       "      <td>2001</td>\n",
       "      <td>332.043762</td>\n",
       "      <td>4386.397949</td>\n",
       "      <td>1873.369141</td>\n",
       "      <td>7.250462</td>\n",
       "      <td>166.519058</td>\n",
       "      <td>23666637010900</td>\n",
       "      <td>9</td>\n",
       "      <td>38.075064</td>\n",
       "      <td>3.807506</td>\n",
       "      <td>47.486014</td>\n",
       "      <td>Dead Trees</td>\n",
       "    </tr>\n",
       "    <tr>\n",
       "      <th>6</th>\n",
       "      <td>b2b4d94d-15a0-4cf2-92da-214cd0eae1ef</td>\n",
       "      <td>00062001050101023755191</td>\n",
       "      <td>2001</td>\n",
       "      <td>335.247864</td>\n",
       "      <td>2450.515625</td>\n",
       "      <td>1905.172119</td>\n",
       "      <td>0.844305</td>\n",
       "      <td>119.503616</td>\n",
       "      <td>23664401010900</td>\n",
       "      <td>9</td>\n",
       "      <td>60.869934</td>\n",
       "      <td>6.086993</td>\n",
       "      <td>620.947134</td>\n",
       "      <td>Dead Trees</td>\n",
       "    </tr>\n",
       "    <tr>\n",
       "      <th>8</th>\n",
       "      <td>5da13935-6493-476a-b0b7-839b693f72d8</td>\n",
       "      <td>00062001050101023755192</td>\n",
       "      <td>2001</td>\n",
       "      <td>585.456421</td>\n",
       "      <td>1513.321533</td>\n",
       "      <td>1174.821655</td>\n",
       "      <td>0.140604</td>\n",
       "      <td>155.367477</td>\n",
       "      <td>23664403010900</td>\n",
       "      <td>9</td>\n",
       "      <td>3.614210</td>\n",
       "      <td>0.361421</td>\n",
       "      <td>157.048096</td>\n",
       "      <td>Dead Trees</td>\n",
       "    </tr>\n",
       "    <tr>\n",
       "      <th>10</th>\n",
       "      <td>fb78c723-227b-4281-84a2-0faa666a2ce3</td>\n",
       "      <td>00062001050101045856871</td>\n",
       "      <td>2001</td>\n",
       "      <td>195.213898</td>\n",
       "      <td>1127.581055</td>\n",
       "      <td>552.046326</td>\n",
       "      <td>0.068396</td>\n",
       "      <td>62.255096</td>\n",
       "      <td>23687300010900</td>\n",
       "      <td>9</td>\n",
       "      <td>15.119143</td>\n",
       "      <td>1.511914</td>\n",
       "      <td>2110.545469</td>\n",
       "      <td>Dead Trees</td>\n",
       "    </tr>\n",
       "  </tbody>\n",
       "</table>\n",
       "</div>"
      ],
      "text/plain": [
       "                                  CaseID                  StandID  Year  \\\n",
       "0   57828de3-2a02-4b93-b5ea-a3b3fe6264ba  00062001050101023530221  2001   \n",
       "2   18a858e2-0602-451f-8da3-e5965bb889ce  00062001050101023593801  2001   \n",
       "4   1fe0102a-2e8d-4431-a720-39af65eb64d7  00062001050101023593803  2001   \n",
       "5   b2b4d94d-15a0-4cf2-92da-214cd0eae1ef  00062001050101023755191  2001   \n",
       "7   5da13935-6493-476a-b0b7-839b693f72d8  00062001050101023755192  2001   \n",
       "9   fb78c723-227b-4281-84a2-0faa666a2ce3  00062001050101045856871  2001   \n",
       "1   57828de3-2a02-4b93-b5ea-a3b3fe6264ba  00062001050101023530221  2001   \n",
       "3   18a858e2-0602-451f-8da3-e5965bb889ce  00062001050101023593801  2001   \n",
       "6   b2b4d94d-15a0-4cf2-92da-214cd0eae1ef  00062001050101023755191  2001   \n",
       "8   5da13935-6493-476a-b0b7-839b693f72d8  00062001050101023755192  2001   \n",
       "10  fb78c723-227b-4281-84a2-0faa666a2ce3  00062001050101045856871  2001   \n",
       "\n",
       "            Tpa        TCuFt        MCuFt        Mort         Acc  \\\n",
       "0   1090.642334  8145.525391  4116.272949   15.130357  248.907730   \n",
       "2    332.043762  4386.397949  1873.369141    7.250462  166.519058   \n",
       "4    208.224548  9591.979492  7892.025391  231.158218  158.933899   \n",
       "5    335.247864  2450.515625  1905.172119    0.844305  119.503616   \n",
       "7    585.456421  1513.321533  1174.821655    0.140604  155.367477   \n",
       "9    195.213898  1127.581055   552.046326    0.068396   62.255096   \n",
       "1   1090.642334  8145.525391  4116.272949   15.130357  248.907730   \n",
       "3    332.043762  4386.397949  1873.369141    7.250462  166.519058   \n",
       "6    335.247864  2450.515625  1905.172119    0.844305  119.503616   \n",
       "8    585.456421  1513.321533  1174.821655    0.140604  155.367477   \n",
       "10   195.213898  1127.581055   552.046326    0.068396   62.255096   \n",
       "\n",
       "          Stand_CN  TreeVal    sum_tcuft  sum_tcuft_year  vol_per_diff  \\\n",
       "0   23664564010900        1  2704.772791      270.477279      8.665681   \n",
       "2   23666637010900        1   409.519441       40.951944     75.407053   \n",
       "4   23666644010900        1  1241.584225      124.158423     21.880465   \n",
       "5   23664401010900        1  1020.700018      102.070002     14.588357   \n",
       "7   23664403010900        1    62.400000        6.240000     95.983715   \n",
       "9   23687300010900        1   785.060318       78.506032     26.103783   \n",
       "1   23664564010900        9   313.115929       31.311593    106.945502   \n",
       "3   23666637010900        9    38.075064        3.807506     47.486014   \n",
       "6   23664401010900        9    60.869934        6.086993    620.947134   \n",
       "8   23664403010900        9     3.614210        0.361421    157.048096   \n",
       "10  23687300010900        9    15.119143        1.511914   2110.545469   \n",
       "\n",
       "          type  \n",
       "0   Live Trees  \n",
       "2   Live Trees  \n",
       "4   Live Trees  \n",
       "5   Live Trees  \n",
       "7   Live Trees  \n",
       "9   Live Trees  \n",
       "1   Dead Trees  \n",
       "3   Dead Trees  \n",
       "6   Dead Trees  \n",
       "8   Dead Trees  \n",
       "10  Dead Trees  "
      ]
     },
     "execution_count": 186,
     "metadata": {},
     "output_type": "execute_result"
    }
   ],
   "source": [
    "# check summ (fvs output) out to see how mort and acc compare to treelist sums\n",
    "summ_join = summ.merge(summ_agg, how='inner', on='Stand_CN')\n",
    "summ_mort = summ_join.loc[(summ_join['TreeVal']== 9)]\n",
    "summ_acc = summ_join.loc[(summ_join['TreeVal']== 1)]\n",
    "\n",
    "summ_acc['vol_per_diff'] = abs(summ_acc['Acc'] - summ_acc['sum_tcuft_year'])/summ_acc['Acc']*100\n",
    "summ_acc['type'] = 'Live Trees'\n",
    "summ_mort['vol_per_diff'] = abs(summ_mort['Mort'] - summ_mort['sum_tcuft_year'])/summ_mort['Mort']*100\n",
    "summ_mort['type'] = 'Dead Trees'\n",
    "\n",
    "summ_join = pd.concat([summ_acc, summ_mort])\n",
    "summ_join"
   ]
  },
  {
   "cell_type": "markdown",
   "metadata": {},
   "source": [
    "Now let's compare FIA individual tree volume estimates with FVS"
   ]
  },
  {
   "cell_type": "code",
   "execution_count": 190,
   "metadata": {},
   "outputs": [],
   "source": [
    "vol_compare = trees_id.merge(summ_trees, how='left', left_on=['CN'], right_on=['Stand_CN'])\n",
    "#vol_compare = vol_compare.loc[(vol_compare['INVYR'] == 2001) | (vol_compare['INVYR'] == 2010)]"
   ]
  },
  {
   "cell_type": "code",
   "execution_count": 192,
   "metadata": {},
   "outputs": [
    {
     "data": {
      "text/plain": [
       "array([1994, 2001, 2002, 2003, 2004, 2005, 2006, 2007, 2008, 2009, 2010,\n",
       "       2011, 2012, 2013, 2014, 2015, 2016, 2017, 2018, 2019], dtype=int64)"
      ]
     },
     "execution_count": 192,
     "metadata": {},
     "output_type": "execute_result"
    }
   ],
   "source": [
    "vol_compare['INVYR'].unique()"
   ]
  }
 ],
 "metadata": {
  "kernelspec": {
   "display_name": "Python 3.10.4 ('sql': conda)",
   "language": "python",
   "name": "python3"
  },
  "language_info": {
   "codemirror_mode": {
    "name": "ipython",
    "version": 3
   },
   "file_extension": ".py",
   "mimetype": "text/x-python",
   "name": "python",
   "nbconvert_exporter": "python",
   "pygments_lexer": "ipython3",
   "version": "3.10.4"
  },
  "orig_nbformat": 4,
  "vscode": {
   "interpreter": {
    "hash": "a19f955932071308ba93aaf574f1cb9f3b67dd9c51fd0350f4a04dccbcdb5dce"
   }
  }
 },
 "nbformat": 4,
 "nbformat_minor": 2
}
