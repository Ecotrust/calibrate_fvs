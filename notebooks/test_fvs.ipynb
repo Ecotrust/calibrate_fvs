{
 "cells": [
  {
   "cell_type": "code",
   "execution_count": 33,
   "metadata": {},
   "outputs": [],
   "source": [
    "import numpy as np\n",
    "import os\n",
    "import pandas as pd\n",
    "from jinja2 import Template\n",
    "import subprocess\n",
    "#from matplotlib import pyplot as plt\n",
    "#from multiprocessing import Pool\n",
    "import multiprocessing\n",
    "import sqlite3\n",
    "import glob\n",
    "import openpyxl\n",
    "\n",
    "from functools import partial"
   ]
  },
  {
   "cell_type": "code",
   "execution_count": 35,
   "metadata": {},
   "outputs": [],
   "source": [
    "np.set_printoptions(precision=8, suppress=True)"
   ]
  },
  {
   "cell_type": "code",
   "execution_count": 65,
   "metadata": {},
   "outputs": [],
   "source": [
    "params = [202,   # fia species code\n",
    "      1,   # 'FIXDGm_0'\n",
    "      1,   # 'FIXDGm_1'\n",
    "      1,   # 'FIXDGm_2'\n",
    "      1,   # 'FIXDGm_3'\n",
    "      1,   # 'FIXDGm_4'\n",
    "      1,   # 'MORTm_0'\n",
    "      1,   # 'MORTm_1'\n",
    "      1,   # 'MORTm_2'\n",
    "      1,   # 'MORTm_3'\n",
    "      1,   # 'MORTm_4'\n",
    "      600,   # 'SDI_MAX'\n",
    "] \n",
    "stand_id = '00062008050801015519691'"
   ]
  },
  {
   "cell_type": "code",
   "execution_count": 4,
   "metadata": {},
   "outputs": [],
   "source": [
    "def make_param_dict(params, stand_id):\n",
    "    ''' Single species\n",
    "        FIXDG (diameter growth multiplier by species and diameter class)\n",
    "        MORTMULT (background mortality rate multiplier by species and diameter class)\n",
    "        SDIMAX (density-driven mortality parameter set for each species)\n",
    "    '''\n",
    "    param_dict = {}\n",
    "    #stand input\n",
    "    param_dict['stand_id'] = stand_id\n",
    "    \n",
    "    #input and output databases\n",
    "    param_dict['FVSIn'] = '../data/FVSIn.db'\n",
    "    param_dict['FVSOut'] = '../keyfiles/{}.db'.format(stand_id)\n",
    "    \n",
    "    #growth factors\n",
    "    #size classes: 3-5, 5-10, 10-15, 15-20, >20\n",
    "    param_dict['FIXDGm_sp'] = int(params[0])\n",
    "    param_dict['FIXDGm_0'] = round(params[1],8)\n",
    "    param_dict['FIXDGm_1'] = round(params[2],8)\n",
    "    param_dict['FIXDGm_2'] = round(params[3],8)\n",
    "    param_dict['FIXDGm_3'] = round(params[4],8)\n",
    "    param_dict['FIXDGm_4'] = round(params[5],8)\n",
    "    #background mortality factors\n",
    "    param_dict['MORTm_sp'] = int(params[0])\n",
    "    param_dict['MORTm_0'] = round(params[6],8)\n",
    "    param_dict['MORTm_1'] = round(params[7],8)\n",
    "    param_dict['MORTm_2'] = round(params[8],8)\n",
    "    param_dict['MORTm_3'] = round(params[9],8)\n",
    "    param_dict['MORTm_4'] = round(params[10],8)\n",
    "\n",
    "    #density driven mortality factors\n",
    "    param_dict['SDI_MAX'] = int(params[11])\n",
    "    param_dict['SDI_LB'] = 55\n",
    "    param_dict['SDI_UB'] = 85\n",
    "        \n",
    "    return param_dict\n"
   ]
  },
  {
   "cell_type": "code",
   "execution_count": 5,
   "metadata": {},
   "outputs": [
    {
     "data": {
      "text/plain": [
       "{'stand_id': '00062008050801015519691',\n",
       " 'FVSIn': '../data/FVSIn.db',\n",
       " 'FVSOut': '../keyfiles/00062008050801015519691.db',\n",
       " 'FIXDGm_sp': 202,\n",
       " 'FIXDGm_0': 1,\n",
       " 'FIXDGm_1': 1,\n",
       " 'FIXDGm_2': 1,\n",
       " 'FIXDGm_3': 1,\n",
       " 'FIXDGm_4': 1,\n",
       " 'MORTm_sp': 202,\n",
       " 'MORTm_0': 1,\n",
       " 'MORTm_1': 1,\n",
       " 'MORTm_2': 1,\n",
       " 'MORTm_3': 1,\n",
       " 'MORTm_4': 1,\n",
       " 'SDI_MAX': 600,\n",
       " 'SDI_LB': 55,\n",
       " 'SDI_UB': 85}"
      ]
     },
     "execution_count": 5,
     "metadata": {},
     "output_type": "execute_result"
    }
   ],
   "source": [
    "param_dict = make_param_dict(params, stand_id)\n",
    "param_dict"
   ]
  },
  {
   "cell_type": "code",
   "execution_count": 78,
   "metadata": {},
   "outputs": [],
   "source": [
    "def get_keyfile_template(path_to_template):\n",
    "    with open(path_to_template, 'r') as base_keyfile:\n",
    "        template = Template(base_keyfile.read())\n",
    "    return template\n",
    "\n",
    "def make_keyfile(template, param_dict):\n",
    "    filename = '../keyfiles/{}.key'.format(param_dict['stand_id'])\n",
    "    keyfile_path = os.path.abspath(filename)\n",
    "    with open(keyfile_path,'w') as keyfile:\n",
    "        keyfile.write(template.render(**param_dict))\n",
    "\n",
    "    return keyfile_path\n",
    "\n",
    "def run_fvs(params, stand_id):\n",
    "    param_dict = make_param_dict(params, stand_id)\n",
    "    KEYFILE_TEMPLATE = '../models/Base_Rx.key'\n",
    "    template = get_keyfile_template(KEYFILE_TEMPLATE)\n",
    "    keyfile = make_keyfile(template, param_dict)\n",
    "\n",
    "    proc = subprocess.call(['/usr/local/bin/FVSnc',\n",
    "                           '--keywordfile={}'.format(keyfile)],\n",
    "                          stderr=subprocess.PIPE,\n",
    "                          stdout=subprocess.PIPE)\n",
    "\n",
    "    # cleanup output files\n",
    "    os.remove('../keyfiles/{}.trl'.format(stand_id))\n",
    "    os.remove('../keyfiles/{}.out'.format(stand_id))\n",
    "    os.remove('../keyfiles/{}.key'.format(stand_id))\n",
    "\n",
    "    return proc"
   ]
  },
  {
   "cell_type": "code",
   "execution_count": 22,
   "metadata": {},
   "outputs": [],
   "source": [
    "proc = run_fvs(params, stand_id)"
   ]
  },
  {
   "cell_type": "code",
   "execution_count": 38,
   "metadata": {},
   "outputs": [],
   "source": [
    "def get_groundtruth(stand_id):\n",
    "    STAND_DATA = '../data/groundtruth.xlsx'\n",
    "    df = pd.read_excel(STAND_DATA).set_index('stand_id')\n",
    "\n",
    "    return df.loc[stand_id]"
   ]
  },
  {
   "cell_type": "code",
   "execution_count": 39,
   "metadata": {},
   "outputs": [
    {
     "data": {
      "text/plain": [
       "STAND_ID2    8.010155e+11\n",
       "growth       1.159811e+02\n",
       "mort        -2.195334e+01\n",
       "acc          9.402778e+01\n",
       "Name: 00062008050801015519691, dtype: float64"
      ]
     },
     "execution_count": 39,
     "metadata": {},
     "output_type": "execute_result"
    }
   ],
   "source": [
    "gt = get_groundtruth(stand_id)\n",
    "gt"
   ]
  },
  {
   "cell_type": "code",
   "execution_count": 41,
   "metadata": {},
   "outputs": [],
   "source": [
    "def get_run_data(stand_id):\n",
    "    CONN_STR = sqlite3.connect('../keyfiles/{}.db'.format(stand_id))\n",
    "    run_data = pd.read_sql_query(\"SELECT * from fvs_summary\", CONN_STR)\n",
    "    #run_data = pd.read_sql_query(\"SELECT * from fvs_summary\", CONN_STR).set_index('standid')\n",
    "    #run_data = pd.read_sql_query(\"SELECT * from fvs_compute\", CONN_STR).set_index('standid')\n",
    "    \n",
    "    return run_data"
   ]
  },
  {
   "cell_type": "code",
   "execution_count": 42,
   "metadata": {},
   "outputs": [
    {
     "data": {
      "text/html": [
       "<div>\n",
       "<style scoped>\n",
       "    .dataframe tbody tr th:only-of-type {\n",
       "        vertical-align: middle;\n",
       "    }\n",
       "\n",
       "    .dataframe tbody tr th {\n",
       "        vertical-align: top;\n",
       "    }\n",
       "\n",
       "    .dataframe thead th {\n",
       "        text-align: right;\n",
       "    }\n",
       "</style>\n",
       "<table border=\"1\" class=\"dataframe\">\n",
       "  <thead>\n",
       "    <tr style=\"text-align: right;\">\n",
       "      <th></th>\n",
       "      <th>CaseID</th>\n",
       "      <th>StandID</th>\n",
       "      <th>Year</th>\n",
       "      <th>Age</th>\n",
       "      <th>Tpa</th>\n",
       "      <th>BA</th>\n",
       "      <th>SDI</th>\n",
       "      <th>CCF</th>\n",
       "      <th>TopHt</th>\n",
       "      <th>QMD</th>\n",
       "      <th>...</th>\n",
       "      <th>ATCCF</th>\n",
       "      <th>ATTopHt</th>\n",
       "      <th>ATQMD</th>\n",
       "      <th>PrdLen</th>\n",
       "      <th>Acc</th>\n",
       "      <th>Mort</th>\n",
       "      <th>MAI</th>\n",
       "      <th>ForTyp</th>\n",
       "      <th>SizeCls</th>\n",
       "      <th>StkCls</th>\n",
       "    </tr>\n",
       "  </thead>\n",
       "  <tbody>\n",
       "    <tr>\n",
       "      <th>0</th>\n",
       "      <td>63923a2b-2d11-4123-b73f-487890c39d69</td>\n",
       "      <td>00062008050801015519691</td>\n",
       "      <td>2008</td>\n",
       "      <td>450</td>\n",
       "      <td>563</td>\n",
       "      <td>359</td>\n",
       "      <td>509</td>\n",
       "      <td>427</td>\n",
       "      <td>118</td>\n",
       "      <td>10.820225</td>\n",
       "      <td>...</td>\n",
       "      <td>427</td>\n",
       "      <td>118</td>\n",
       "      <td>10.820225</td>\n",
       "      <td>10</td>\n",
       "      <td>88</td>\n",
       "      <td>305</td>\n",
       "      <td>23.404444</td>\n",
       "      <td>201</td>\n",
       "      <td>1</td>\n",
       "      <td>1</td>\n",
       "    </tr>\n",
       "    <tr>\n",
       "      <th>1</th>\n",
       "      <td>63923a2b-2d11-4123-b73f-487890c39d69</td>\n",
       "      <td>00062008050801015519691</td>\n",
       "      <td>2018</td>\n",
       "      <td>460</td>\n",
       "      <td>267</td>\n",
       "      <td>285</td>\n",
       "      <td>373</td>\n",
       "      <td>316</td>\n",
       "      <td>115</td>\n",
       "      <td>13.982214</td>\n",
       "      <td>...</td>\n",
       "      <td>316</td>\n",
       "      <td>115</td>\n",
       "      <td>13.982214</td>\n",
       "      <td>0</td>\n",
       "      <td>0</td>\n",
       "      <td>0</td>\n",
       "      <td>19.910870</td>\n",
       "      <td>201</td>\n",
       "      <td>1</td>\n",
       "      <td>1</td>\n",
       "    </tr>\n",
       "  </tbody>\n",
       "</table>\n",
       "<p>2 rows × 29 columns</p>\n",
       "</div>"
      ],
      "text/plain": [
       "                                 CaseID                  StandID  Year  Age  \\\n",
       "0  63923a2b-2d11-4123-b73f-487890c39d69  00062008050801015519691  2008  450   \n",
       "1  63923a2b-2d11-4123-b73f-487890c39d69  00062008050801015519691  2018  460   \n",
       "\n",
       "   Tpa   BA  SDI  CCF  TopHt        QMD  ...  ATCCF  ATTopHt      ATQMD  \\\n",
       "0  563  359  509  427    118  10.820225  ...    427      118  10.820225   \n",
       "1  267  285  373  316    115  13.982214  ...    316      115  13.982214   \n",
       "\n",
       "   PrdLen  Acc  Mort        MAI  ForTyp  SizeCls  StkCls  \n",
       "0      10   88   305  23.404444     201        1       1  \n",
       "1       0    0     0  19.910870     201        1       1  \n",
       "\n",
       "[2 rows x 29 columns]"
      ]
     },
     "execution_count": 42,
     "metadata": {},
     "output_type": "execute_result"
    }
   ],
   "source": [
    "rd = get_run_data(stand_id)\n",
    "rd"
   ]
  },
  {
   "cell_type": "code",
   "execution_count": 58,
   "metadata": {},
   "outputs": [],
   "source": [
    "def get_residuals(stand_id):\n",
    "\n",
    "    METRICS = ['Acc','Mort']\n",
    "    #ACC = ['comp_acc']\n",
    "    #MORT = ['comp_mort']\n",
    "    pred = get_run_data(stand_id)[METRICS].head(1)\n",
    "    #acc_pre = get_run_data(stand_id)[ACC].first()\n",
    "    #acc_post = get_run_data(stand_id)[ACC].last()\n",
    "    #pred_acc = acc_post - acc_pre\n",
    "    #pred_mort = get_run_data(stand_id)[MORT].first()\n",
    "    #pred = pred_acc.merge(pred_mort, on='stand_id')\n",
    "    obs = get_groundtruth(stand_id)[METRICS]\n",
    "\n",
    "    residuals = pred - obs\n",
    "\n",
    "    \n",
    "    return residuals"
   ]
  },
  {
   "cell_type": "code",
   "execution_count": 59,
   "metadata": {},
   "outputs": [
    {
     "data": {
      "text/html": [
       "<div>\n",
       "<style scoped>\n",
       "    .dataframe tbody tr th:only-of-type {\n",
       "        vertical-align: middle;\n",
       "    }\n",
       "\n",
       "    .dataframe tbody tr th {\n",
       "        vertical-align: top;\n",
       "    }\n",
       "\n",
       "    .dataframe thead th {\n",
       "        text-align: right;\n",
       "    }\n",
       "</style>\n",
       "<table border=\"1\" class=\"dataframe\">\n",
       "  <thead>\n",
       "    <tr style=\"text-align: right;\">\n",
       "      <th></th>\n",
       "      <th>Acc</th>\n",
       "      <th>Mort</th>\n",
       "    </tr>\n",
       "  </thead>\n",
       "  <tbody>\n",
       "    <tr>\n",
       "      <th>0</th>\n",
       "      <td>-6.027783</td>\n",
       "      <td>326.953338</td>\n",
       "    </tr>\n",
       "  </tbody>\n",
       "</table>\n",
       "</div>"
      ],
      "text/plain": [
       "        Acc        Mort\n",
       "0 -6.027783  326.953338"
      ]
     },
     "execution_count": 59,
     "metadata": {},
     "output_type": "execute_result"
    }
   ],
   "source": [
    "res = get_residuals(stand_id)\n",
    "res"
   ]
  },
  {
   "cell_type": "code",
   "execution_count": 75,
   "metadata": {},
   "outputs": [],
   "source": [
    "def run_score_batch(params, all_stands, sample_size=5, num_cores=16, target='both'):\n",
    "    \"\"\"\n",
    "    Objective function to be optimized by PSO.\n",
    "\n",
    "    Parameters\n",
    "    ----------\n",
    "    params : array\n",
    "      parameters being tested in this step of the PSO\n",
    "    stand_ids : array\n",
    "      stands that will be simulated in this step of the PSO\n",
    "    num_cores : int\n",
    "      number of cores that will be used for parallel processing\n",
    "    target : str\n",
    "      one of 'growth', 'mortality', or 'both'\n",
    "\n",
    "    Returns\n",
    "    -------\n",
    "    obj_fun : scalar\n",
    "      score of objective function on this batch of simulations\n",
    "    \"\"\"\n",
    "    stand_ids = np.random.choice(all_stands, sample_size)\n",
    "    map_to_run = partial(run_fvs, params)\n",
    "    with multiprocessing.Pool(num_cores) as p:\n",
    "        procs = p.map(map_to_run, stand_ids)\n",
    "        resids = p.map(get_residuals, stand_ids)\n",
    "    \n",
    "    resid = pd.concat(resids, axis=0, ignore_index=True)\n",
    "\n",
    "    # sse = ((residuals)**2)\n",
    "    # mae = residuals.abs()\n",
    "    # bias = residuals\n",
    "\n",
    "    growth_sse = (resid['Acc']**2).sum()\n",
    "    growth_mae = resid['Acc'].abs().mean()\n",
    "    growth_bias = resid['Acc'].mean()\n",
    "        \n",
    "    mort_sse = (resid['Mort']**2).sum()\n",
    "    mort_mae = resid['Mort'].abs().mean()\n",
    "    mort_bias = resid['Mort'].mean()\n",
    "    \n",
    "    if target == 'growth':\n",
    "        obj_fun = growth_sse\n",
    "    elif target == 'mortality':\n",
    "        obj_fun = mort_sse\n",
    "    else: \n",
    "        obj_fun = growth_sse + mort_sse\n",
    "\n",
    "    return obj_fun"
   ]
  },
  {
   "cell_type": "code",
   "execution_count": 73,
   "metadata": {},
   "outputs": [],
   "source": [
    "stand_data = pd.read_excel('../data/groundtruth.xlsx')\n",
    "all_stands = np.unique(stand_data.stand_id)"
   ]
  },
  {
   "cell_type": "code",
   "execution_count": 76,
   "metadata": {},
   "outputs": [],
   "source": [
    "test = run_score_batch(params, all_stands)"
   ]
  },
  {
   "cell_type": "code",
   "execution_count": 77,
   "metadata": {},
   "outputs": [
    {
     "data": {
      "text/plain": [
       "437877.7364175144"
      ]
     },
     "execution_count": 77,
     "metadata": {},
     "output_type": "execute_result"
    }
   ],
   "source": [
    "test"
   ]
  }
 ],
 "metadata": {
  "kernelspec": {
   "display_name": "geo",
   "language": "python",
   "name": "python3"
  },
  "language_info": {
   "codemirror_mode": {
    "name": "ipython",
    "version": 3
   },
   "file_extension": ".py",
   "mimetype": "text/x-python",
   "name": "python",
   "nbconvert_exporter": "python",
   "pygments_lexer": "ipython3",
   "version": "3.10.9"
  },
  "orig_nbformat": 4,
  "vscode": {
   "interpreter": {
    "hash": "dee7d4f533b7cd783ce13c45275c8722fb3f472a0b0cde8dbb181c050c075569"
   }
  }
 },
 "nbformat": 4,
 "nbformat_minor": 2
}
