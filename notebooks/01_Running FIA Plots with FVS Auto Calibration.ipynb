{
 "cells": [
  {
   "cell_type": "code",
   "execution_count": 1,
   "id": "1c2a949c-b6c0-4553-a302-91b2c810cc8a",
   "metadata": {},
   "outputs": [],
   "source": [
    "import os\n",
    "import pandas as pd\n",
    "import subprocess\n",
    "from jinja2 import Template\n",
    "from concurrent.futures import ThreadPoolExecutor, as_completed\n",
    "from tqdm.notebook import tqdm"
   ]
  },
  {
   "cell_type": "code",
   "execution_count": 2,
   "id": "de1e1dce-4570-4314-aa8f-602f67d8ee0d",
   "metadata": {},
   "outputs": [],
   "source": [
    "KEYFILE_TEMPLATE = \"../models/Base_FIA.key\"\n",
    "KEYFILE_OUTDIR = \"../data/interim/usfia/keyfiles\"\n",
    "FVS_OUTDIR = \"../data/interim/usfia/fvs_outputs\"\n",
    "FVSIN_DB = \"../data/raw/SQLite_FIADB_ENTIRE.db\""
   ]
  },
  {
   "cell_type": "code",
   "execution_count": 3,
   "id": "f7551e36-9cd7-4db2-a982-a214896457bd",
   "metadata": {},
   "outputs": [],
   "source": [
    "for d in [KEYFILE_OUTDIR, FVS_OUTDIR]:\n",
    "    os.makedirs(d, exist_ok=True)"
   ]
  },
  {
   "cell_type": "code",
   "execution_count": 4,
   "id": "519564bd-2eac-4f76-9031-8373ff415679",
   "metadata": {},
   "outputs": [],
   "source": [
    "def run_fvs(stand_id, fvs_variant, overwrite=False):\n",
    "    with open(KEYFILE_TEMPLATE, \"r\") as base_keyfile:\n",
    "        template = Template(base_keyfile.read())\n",
    "\n",
    "    keyfile_name = f\"{fvs_variant}_{stand_id}.key\"\n",
    "    keyfile_path = os.path.join(os.path.abspath(KEYFILE_OUTDIR), keyfile_name)\n",
    "\n",
    "    db_name = f\"{fvs_variant}_{stand_id}.db\"\n",
    "    db_path = os.path.join(os.path.abspath(FVS_OUTDIR), db_name)\n",
    "\n",
    "    params = {\n",
    "        \"FVSIn\": os.path.abspath(FVSIN_DB),\n",
    "        \"FVSOut\": db_path,\n",
    "        \"stand_id\": stand_id,\n",
    "    }\n",
    "\n",
    "    with open(keyfile_path, \"w\") as k:\n",
    "        k.write(template.render(**params))\n",
    "\n",
    "    proc = subprocess.run(\n",
    "        [f\"/usr/local/bin/FVS{fvs_variant.lower()}\", f\"--keywordfile={keyfile_path}\"],\n",
    "        stderr=subprocess.PIPE,\n",
    "        stdout=subprocess.PIPE,\n",
    "    )\n",
    "\n",
    "    return proc"
   ]
  },
  {
   "cell_type": "code",
   "execution_count": 5,
   "id": "842af276-9071-4ac6-b75f-e123e003a7ec",
   "metadata": {},
   "outputs": [
    {
     "name": "stdout",
     "output_type": "stream",
     "text": [
      "<class 'pandas.core.frame.DataFrame'>\n",
      "RangeIndex: 400221 entries, 0 to 400220\n",
      "Data columns (total 2 columns):\n",
      " #   Column    Non-Null Count   Dtype \n",
      "---  ------    --------------   ----- \n",
      " 0   STAND_ID  400221 non-null  object\n",
      " 1   VARIANT   400221 non-null  object\n",
      "dtypes: object(2)\n",
      "memory usage: 6.1+ MB\n"
     ]
    }
   ],
   "source": [
    "SQL = \"\"\"\n",
    "SELECT s.STAND_ID, s.VARIANT\n",
    "FROM FVS_STANDINIT_COND s\n",
    "INNER JOIN COND c\n",
    "ON s.STAND_CN = c.CN\n",
    "WHERE (c.DSTRBCD1 NOT IN (30, 31, 32, 80, 90, 91, 92, 93, 94, 95))\n",
    "AND (c.DSTRBCD2 NOT IN (30, 31, 32, 80, 90, 91, 92, 93, 94, 95))\n",
    "AND (c.DSTRBCD3 NOT IN (30, 31, 32, 80, 90, 91, 92, 93, 94, 95))\n",
    "AND (c.TRTCD1 NOT IN (10, 20, 30, 50))\n",
    "AND (c.TRTCD2 NOT IN (10, 20, 30, 50))\n",
    "AND (c.TRTCD3 NOT IN (10, 20, 30, 50))\n",
    "AND (c.COND_STATUS_CD = 1)\n",
    "AND (c.CONDPROP_UNADJ > 0.20)\n",
    "AND s.VARIANT NOT NULL\n",
    "\"\"\"\n",
    "\n",
    "stands = pd.read_sql(SQL, f\"sqlite:///{os.path.abspath(FVSIN_DB)}\")\n",
    "\n",
    "stands.info()"
   ]
  },
  {
   "cell_type": "code",
   "execution_count": 6,
   "id": "fb06ae34-31ab-4110-a1fd-69c9f8707048",
   "metadata": {},
   "outputs": [
    {
     "data": {
      "text/html": [
       "<div>\n",
       "<style scoped>\n",
       "    .dataframe tbody tr th:only-of-type {\n",
       "        vertical-align: middle;\n",
       "    }\n",
       "\n",
       "    .dataframe tbody tr th {\n",
       "        vertical-align: top;\n",
       "    }\n",
       "\n",
       "    .dataframe thead th {\n",
       "        text-align: right;\n",
       "    }\n",
       "</style>\n",
       "<table border=\"1\" class=\"dataframe\">\n",
       "  <thead>\n",
       "    <tr style=\"text-align: right;\">\n",
       "      <th></th>\n",
       "      <th>STAND_ID</th>\n",
       "      <th>VARIANT</th>\n",
       "    </tr>\n",
       "  </thead>\n",
       "  <tbody>\n",
       "    <tr>\n",
       "      <th>0</th>\n",
       "      <td>00062008050803055960512</td>\n",
       "      <td>NC</td>\n",
       "    </tr>\n",
       "    <tr>\n",
       "      <th>1</th>\n",
       "      <td>00062008050803017899581</td>\n",
       "      <td>CA</td>\n",
       "    </tr>\n",
       "    <tr>\n",
       "      <th>2</th>\n",
       "      <td>00062008050806065548331</td>\n",
       "      <td>WS</td>\n",
       "    </tr>\n",
       "    <tr>\n",
       "      <th>3</th>\n",
       "      <td>00062016060605009737471</td>\n",
       "      <td>WS</td>\n",
       "    </tr>\n",
       "    <tr>\n",
       "      <th>4</th>\n",
       "      <td>00062016060603061600031</td>\n",
       "      <td>CA</td>\n",
       "    </tr>\n",
       "  </tbody>\n",
       "</table>\n",
       "</div>"
      ],
      "text/plain": [
       "                  STAND_ID VARIANT\n",
       "0  00062008050803055960512      NC\n",
       "1  00062008050803017899581      CA\n",
       "2  00062008050806065548331      WS\n",
       "3  00062016060605009737471      WS\n",
       "4  00062016060603061600031      CA"
      ]
     },
     "execution_count": 6,
     "metadata": {},
     "output_type": "execute_result"
    }
   ],
   "source": [
    "stands.head()"
   ]
  },
  {
   "cell_type": "code",
   "execution_count": 7,
   "id": "8f16e79f-ee9e-4657-9ea5-8b5fafaace99",
   "metadata": {},
   "outputs": [
    {
     "data": {
      "application/vnd.jupyter.widget-view+json": {
       "model_id": "14d46195885e4f99a124593f76fc02ef",
       "version_major": 2,
       "version_minor": 0
      },
      "text/plain": [
       "  0%|          | 0/400221 [00:00<?, ?it/s]"
      ]
     },
     "metadata": {},
     "output_type": "display_data"
    }
   ],
   "source": [
    "results = []\n",
    "\n",
    "with tqdm(total=len(stands)) as pbar:\n",
    "    with ThreadPoolExecutor(48) as executor:\n",
    "        jobs = [\n",
    "            executor.submit(run_fvs, row[\"STAND_ID\"], row[\"VARIANT\"])\n",
    "            for _, row in stands.iterrows()\n",
    "        ]\n",
    "        for job in as_completed(jobs):\n",
    "            proc = job.result()\n",
    "            keyfile = os.path.basename(proc.args[1].split(\"--keywordfile=\")[-1])\n",
    "            variant = keyfile.split(\"_\")[0]\n",
    "            stand_id = keyfile.split(\"_\")[1].split(\".\")[0]\n",
    "            results.append((variant, stand_id, keyfile, proc.returncode))\n",
    "            pbar.update()\n",
    "\n",
    "result_df = pd.DataFrame(\n",
    "    results, columns=[\"VARIANT\", \"STAND_ID\", \"KEYFILE\", \"RETURN_CODE\"]\n",
    ")"
   ]
  },
  {
   "cell_type": "code",
   "execution_count": 8,
   "id": "cd1ab822-9f06-4595-973f-618051dd9975",
   "metadata": {},
   "outputs": [],
   "source": [
    "result_df.to_csv(\"../models/usfia_run_status.csv\", index=False, header=True)"
   ]
  }
 ],
 "metadata": {
  "kernelspec": {
   "display_name": "calibrate_fvs",
   "language": "python",
   "name": "python3"
  },
  "language_info": {
   "codemirror_mode": {
    "name": "ipython",
    "version": 3
   },
   "file_extension": ".py",
   "mimetype": "text/x-python",
   "name": "python",
   "nbconvert_exporter": "python",
   "pygments_lexer": "ipython3",
   "version": "3.11.3"
  }
 },
 "nbformat": 4,
 "nbformat_minor": 5
}
